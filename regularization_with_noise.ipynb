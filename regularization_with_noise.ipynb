{
 "cells": [
  {
   "cell_type": "markdown",
   "metadata": {},
   "source": [
    "### Regularization from the chapter of Ian Goodfellow"
   ]
  },
  {
   "cell_type": "code",
   "execution_count": 1,
   "metadata": {},
   "outputs": [],
   "source": [
    "import torch\n",
    "import torch.nn as nn\n",
    "import matplotlib.pyplot as plt\n",
    "import numpy as np\n",
    "device = 'cuda' if torch.cuda.is_available() else 'cpu'\n",
    "np.random.seed(0)"
   ]
  },
  {
   "cell_type": "code",
   "execution_count": 180,
   "metadata": {},
   "outputs": [],
   "source": [
    "# Define the model\n",
    "class LinearRegression(nn.Module):\n",
    "    def __init__(self, input_size, output_size, eta = 0.1):\n",
    "        super(LinearRegression, self).__init__()\n",
    "        self.linear = nn.Sequential(\n",
    "            nn.Linear(input_size, 5),\n",
    "            nn.Linear(5, 10),\n",
    "            nn.Sigmoid(),\n",
    "            nn.Linear(10, 5),\n",
    "            nn.Linear(5, output_size)\n",
    "        )\n",
    "        self.N = torch.distributions.Normal(0, eta * 1)\n",
    "        self.eta = eta\n",
    "\n",
    "    def forward(self, x):\n",
    "        y = self.linear(x)\n",
    "        return y"
   ]
  },
  {
   "cell_type": "code",
   "execution_count": 170,
   "metadata": {},
   "outputs": [],
   "source": [
    "x_values = np.array([np.array([i]) for i in range(1, 6)])\n",
    "x = torch.tensor(x_values, dtype=torch.float32)\n",
    "y_values = np.array([2 * i + 3 + 5 * (np.random.rand() - 0.5) for i in x_values])\n",
    "y = torch.tensor(y_values, dtype=torch.float32)\n",
    "train_data = list(zip(x, y))"
   ]
  },
  {
   "cell_type": "code",
   "execution_count": 171,
   "metadata": {},
   "outputs": [],
   "source": [
    "loss_fn = nn.MSELoss().to(device=device)\n",
    "learning_rate = 0.01\n",
    "epochs = 5000"
   ]
  },
  {
   "cell_type": "code",
   "execution_count": 172,
   "metadata": {},
   "outputs": [
    {
     "name": "stdout",
     "output_type": "stream",
     "text": [
      "Error for epoch 1: 73.9979019165039\n",
      "Error for epoch 501: 1.9950764179229736\n",
      "Error for epoch 1001: 1.5169618129730225\n",
      "Error for epoch 1501: 1.363244652748108\n",
      "Error for epoch 2001: 1.2642966508865356\n",
      "Error for epoch 2501: 1.1010267734527588\n",
      "Error for epoch 3001: 0.15347646176815033\n",
      "Error for epoch 3501: 0.009127852506935596\n",
      "Error for epoch 4001: 0.0008165618637576699\n",
      "Error for epoch 4501: 7.695819658692926e-05\n"
     ]
    }
   ],
   "source": [
    "model = LinearRegression(1, 1).to(device=device)\n",
    "optimizer = torch.optim.SGD(model.parameters(), lr = learning_rate)\n",
    "for epoch in range(epochs):\n",
    "    y_hat = model(x)\n",
    "    optimizer.zero_grad()\n",
    "    loss = loss_fn(y, y_hat)\n",
    "    loss.backward()\n",
    "    optimizer.step()\n",
    "    if epoch % 500 == 0:\n",
    "        error = torch.linalg.norm(loss).item()\n",
    "        print(f\"Error for epoch {epoch + 1}: {error}\")"
   ]
  },
  {
   "cell_type": "code",
   "execution_count": 188,
   "metadata": {},
   "outputs": [
    {
     "name": "stdout",
     "output_type": "stream",
     "text": [
      "Error for epoch 1: 281.0024108886719\n",
      "Error for epoch 501: 803.8250122070312\n",
      "Error for epoch 1001: 61.73015213012695\n",
      "Error for epoch 1501: 199.5711212158203\n",
      "Error for epoch 2001: 1139.285400390625\n",
      "Error for epoch 2501: 586.6561279296875\n",
      "Error for epoch 3001: 89.49115753173828\n",
      "Error for epoch 3501: 630.9744873046875\n",
      "Error for epoch 4001: 83.74162292480469\n",
      "Error for epoch 4501: 163.37728881835938\n"
     ]
    }
   ],
   "source": [
    "model_noise = LinearRegression(1, 1,eta=20)\n",
    "optimizer_noise = torch.optim.SGD(model_noise.parameters(), lr = learning_rate)\n",
    "for epoch in range(epochs):\n",
    "    optimizer_noise.zero_grad()\n",
    "    y_ = model_noise(x)\n",
    "    y_hat = y_ + model_noise.N.sample(x.shape)\n",
    "    loss = loss_fn(y, y_hat)\n",
    "    loss.backward()\n",
    "    optimizer_noise.step()\n",
    "    if epoch % 500 == 0:\n",
    "        error = torch.linalg.norm(loss).item()\n",
    "        print(f\"Error for epoch {epoch + 1}: {error}\")"
   ]
  },
  {
   "cell_type": "code",
   "execution_count": 189,
   "metadata": {},
   "outputs": [
    {
     "data": {
      "text/plain": [
       "[]"
      ]
     },
     "execution_count": 189,
     "metadata": {},
     "output_type": "execute_result"
    },
    {
     "data": {
      "image/png": "[encoded data removed]",
      "text/plain": [
       "<Figure size 432x288 with 1 Axes>"
      ]
     },
     "metadata": {
      "needs_background": "light"
     },
     "output_type": "display_data"
    }
   ],
   "source": [
    "plt.scatter(x, y)\n",
    "test_x = torch.tensor([[x] for x in np.linspace(0, 5, 200)], dtype=torch.float32)\n",
    "test_y = model(test_x)\n",
    "test_y_noise = model_noise(test_x)\n",
    "plt.scatter(x, y, color = '#88c999')\n",
    "plt.plot(test_x.transpose(-1, 0)[0].detach().numpy(), test_y.transpose(-1, 0)[0].detach().numpy(), color = \"#636161\")\n",
    "plt.plot(test_x.transpose(-1, 0)[0].detach().numpy(), test_y_noise.transpose(-1, 0)[0].detach().numpy(), 'r--')\n",
    "plt.plot()"
   ]
  },
  {
   "cell_type": "markdown",
   "metadata": {},
   "source": [
    "## Result\n",
    "- Here in the above plot we can see that that output for **model wihtout noise(purple)** is more sensitive to input. \n",
    "- But for **model with noise(red)**, it is less sensitive to input as it is trained with inbuilt noise.\n",
    "- With increasing value of eta, we can see that the capacity of model decreases, so we can conclude that adding noise can act as a form of regularization.\n",
    "\n",
    "In normal model, the loss function is:  \n",
    "$J = E_p(x, y) [y(x) - t]$\n",
    "\n",
    "But, in another model we add random amount of noise $\\epsilon_W ~ \\mathcal{N} (\\mu, \\eta I)$ and now the cost function becomes:  \n",
    "$J = E_p(x, y, \\epsilon_W) [y_{\\epsilon_W}(x) - t]$"
   ]
  }
 ],
 "metadata": {
  "interpreter": {
   "hash": "ae440679f2660d1163b24b0cbc00b894c2ec4721f12ae0b8fa273e5846eb1af5"
  },
  "kernelspec": {
   "display_name": "Python 3.9.12 ('env')",
   "language": "python",
   "name": "python3"
  },
  "language_info": {
   "codemirror_mode": {
    "name": "ipython",
    "version": 3
   },
   "file_extension": ".py",
   "mimetype": "text/x-python",
   "name": "python",
   "nbconvert_exporter": "python",
   "pygments_lexer": "ipython3",
   "version": "3.9.12"
  },
  "orig_nbformat": 4
 },
 "nbformat": 4,
 "nbformat_minor": 2
}
