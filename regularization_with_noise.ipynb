{
 "cells": [
  {
   "cell_type": "markdown",
   "metadata": {},
   "source": [
    "### Regularization from the chapter of Ian Goodfellow"
   ]
  },
  {
   "cell_type": "code",
   "execution_count": 1,
   "metadata": {},
   "outputs": [],
   "source": [
    "import torch\n",
    "import torch.nn as nn\n",
    "import matplotlib.pyplot as plt\n",
    "import numpy as np\n",
    "device = 'cuda' if torch.cuda.is_available() else 'cpu'\n",
    "np.random.seed(0)"
   ]
  },
  {
   "cell_type": "code",
   "execution_count": 25,
   "metadata": {},
   "outputs": [],
   "source": [
    "# Define the model\n",
    "class LinearRegression(nn.Module):\n",
    "    def __init__(self, input_size, output_size, eta = 0.1):\n",
    "        super(LinearRegression, self).__init__()\n",
    "        self.linear = nn.Sequential(\n",
    "            nn.Linear(input_size, 5),\n",
    "            nn.Linear(5, 10),\n",
    "            nn.Sigmoid(),\n",
    "            nn.Linear(10, 5),\n",
    "            nn.Linear(5, output_size)\n",
    "        )\n",
    "        self.N = torch.distributions.Normal(0, eta)\n",
    "        self.eta = eta\n",
    "\n",
    "    def forward(self, x):\n",
    "        return self.linear(x)"
   ]
  },
  {
   "cell_type": "code",
   "execution_count": 26,
   "metadata": {},
   "outputs": [],
   "source": [
    "x_values = np.array([np.array([i]) for i in range(1, 6)])\n",
    "x = torch.tensor(x_values, dtype=torch.float32)\n",
    "y_values = np.array([2 * i + 3 + 5 * (np.random.rand() - 0.5) for i in x_values])\n",
    "y = torch.tensor(y_values, dtype=torch.float32)\n",
    "train_data = list(zip(x, y))"
   ]
  },
  {
   "cell_type": "code",
   "execution_count": 38,
   "metadata": {},
   "outputs": [],
   "source": [
    "loss_fn = nn.MSELoss().to(device=device)\n",
    "learning_rate = 0.01\n",
    "epochs = 20000"
   ]
  },
  {
   "cell_type": "code",
   "execution_count": 39,
   "metadata": {},
   "outputs": [
    {
     "name": "stdout",
     "output_type": "stream",
     "text": [
      "Error for epoch 1: 90.30728149414062\n",
      "Error for epoch 501: 1.4577651023864746\n",
      "Error for epoch 1001: 0.8511508703231812\n",
      "Error for epoch 1501: 0.1487445831298828\n",
      "Error for epoch 2001: 0.07655846327543259\n",
      "Error for epoch 2501: 0.04945776239037514\n",
      "Error for epoch 3001: 0.030426401644945145\n",
      "Error for epoch 3501: 0.015909921377897263\n",
      "Error for epoch 4001: 0.018045861274003983\n",
      "Error for epoch 4501: 0.026525694876909256\n",
      "Error for epoch 5001: 0.016490250825881958\n",
      "Error for epoch 5501: 0.009478735737502575\n",
      "Error for epoch 6001: 0.006440751254558563\n",
      "Error for epoch 6501: 0.003929353319108486\n",
      "Error for epoch 7001: 0.0022513698786497116\n",
      "Error for epoch 7501: 0.0012841725256294012\n",
      "Error for epoch 8001: 0.0007953072199597955\n",
      "Error for epoch 8501: 0.0004451090353541076\n",
      "Error for epoch 9001: 0.0002547618933022022\n",
      "Error for epoch 9501: 0.00015383437857963145\n",
      "Error for epoch 10001: 9.111418330576271e-05\n",
      "Error for epoch 10501: 5.230672104516998e-05\n",
      "Error for epoch 11001: 2.9945022106403485e-05\n",
      "Error for epoch 11501: 1.7424521502107382e-05\n",
      "Error for epoch 12001: 1.0001367627410218e-05\n",
      "Error for epoch 12501: 5.804018201160943e-06\n",
      "Error for epoch 13001: 3.579636540962383e-06\n",
      "Error for epoch 13501: 2.470691924827406e-06\n",
      "Error for epoch 14001: 1.7972697605728172e-06\n",
      "Error for epoch 14501: 1.2411677516865893e-06\n",
      "Error for epoch 15001: 9.980783488572342e-07\n",
      "Error for epoch 15501: 9.531280511509976e-07\n",
      "Error for epoch 16001: 7.683747753617354e-07\n",
      "Error for epoch 16501: 6.242491963348584e-07\n",
      "Error for epoch 17001: 5.930169209023006e-07\n",
      "Error for epoch 17501: 5.835115075569774e-07\n",
      "Error for epoch 18001: 5.835685215060948e-07\n",
      "Error for epoch 18501: 5.834739909005293e-07\n",
      "Error for epoch 19001: 5.457861220747873e-07\n",
      "Error for epoch 19501: 4.2142659140154137e-07\n"
     ]
    }
   ],
   "source": [
    "model = LinearRegression(1, 1).to(device=device)\n",
    "optimizer = torch.optim.SGD(model.parameters(), lr = learning_rate)\n",
    "for epoch in range(epochs):\n",
    "    y_hat = model(x)\n",
    "    optimizer.zero_grad()\n",
    "    loss = loss_fn(y, y_hat)\n",
    "    loss.backward()\n",
    "    optimizer.step()\n",
    "    if epoch % 500 == 0:\n",
    "        error = torch.linalg.norm(loss).item()\n",
    "        print(f\"Error for epoch {epoch + 1}: {error}\")"
   ]
  },
  {
   "cell_type": "code",
   "execution_count": 42,
   "metadata": {},
   "outputs": [
    {
     "name": "stdout",
     "output_type": "stream",
     "text": [
      "Error for epoch 1: 93.6785888671875\n",
      "Error for epoch 501: 1.901136040687561\n",
      "Error for epoch 1001: 1.3472001552581787\n",
      "Error for epoch 1501: 0.15756049752235413\n",
      "Error for epoch 2001: 0.05964980274438858\n",
      "Error for epoch 2501: 0.0804029107093811\n",
      "Error for epoch 3001: 0.156280517578125\n",
      "Error for epoch 3501: 0.012907390482723713\n",
      "Error for epoch 4001: 0.33373555541038513\n",
      "Error for epoch 4501: 0.05514313653111458\n",
      "Error for epoch 5001: 0.09857886284589767\n",
      "Error for epoch 5501: 0.21212580800056458\n",
      "Error for epoch 6001: 0.10310091078281403\n",
      "Error for epoch 6501: 0.01805984042584896\n",
      "Error for epoch 7001: 0.06935881823301315\n",
      "Error for epoch 7501: 0.019399579614400864\n",
      "Error for epoch 8001: 0.10736978054046631\n",
      "Error for epoch 8501: 0.25912532210350037\n",
      "Error for epoch 9001: 0.08464263379573822\n",
      "Error for epoch 9501: 0.005293256137520075\n",
      "Error for epoch 10001: 0.03813358023762703\n",
      "Error for epoch 10501: 0.13020160794258118\n",
      "Error for epoch 11001: 0.10236486047506332\n",
      "Error for epoch 11501: 0.053849734365940094\n",
      "Error for epoch 12001: 0.009618675336241722\n",
      "Error for epoch 12501: 0.018610691651701927\n",
      "Error for epoch 13001: 0.01193416677415371\n",
      "Error for epoch 13501: 0.010211354121565819\n",
      "Error for epoch 14001: 0.026310984045267105\n",
      "Error for epoch 14501: 0.030943701043725014\n",
      "Error for epoch 15001: 0.0002747482212726027\n",
      "Error for epoch 15501: 0.006262113340198994\n",
      "Error for epoch 16001: 0.013065790757536888\n",
      "Error for epoch 16501: 0.006173513829708099\n",
      "Error for epoch 17001: 0.04804098606109619\n",
      "Error for epoch 17501: 0.04174136742949486\n",
      "Error for epoch 18001: 0.5902916193008423\n",
      "Error for epoch 18501: 0.016178689897060394\n",
      "Error for epoch 19001: 0.1002417802810669\n",
      "Error for epoch 19501: 0.08557989448308945\n"
     ]
    }
   ],
   "source": [
    "model_noise = LinearRegression(1, 1,eta=0.2)\n",
    "optimizer_noise = torch.optim.SGD(model_noise.parameters(), lr = learning_rate)\n",
    "for epoch in range(epochs):\n",
    "    optimizer_noise.zero_grad()\n",
    "    y_ = model_noise(x + model_noise.N.sample(x.shape))\n",
    "    y_hat = y_ + model_noise.N.sample(x.shape) * 0\n",
    "    loss = loss_fn(y, y_hat)\n",
    "    loss.backward()\n",
    "    optimizer_noise.step()\n",
    "    if epoch % 500 == 0:\n",
    "        error = torch.linalg.norm(loss).item()\n",
    "        print(f\"Error for epoch {epoch + 1}: {error}\")"
   ]
  },
  {
   "cell_type": "code",
   "execution_count": 34,
   "metadata": {},
   "outputs": [
    {
     "data": {
      "text/plain": [
       "<matplotlib.collections.PathCollection at 0x7fb99b8ca040>"
      ]
     },
     "execution_count": 34,
     "metadata": {},
     "output_type": "execute_result"
    },
    {
     "data": {
      "image/png": "[encoded data removed]",
      "text/plain": [
       "<Figure size 432x288 with 1 Axes>"
      ]
     },
     "metadata": {
      "needs_background": "light"
     },
     "output_type": "display_data"
    }
   ],
   "source": [
    "plt.scatter(x, y)"
   ]
  },
  {
   "cell_type": "code",
   "execution_count": 43,
   "metadata": {},
   "outputs": [
    {
     "data": {
      "text/plain": [
       "[]"
      ]
     },
     "execution_count": 43,
     "metadata": {},
     "output_type": "execute_result"
    },
    {
     "data": {
      "image/png": "[encoded data removed]",
      "text/plain": [
       "<Figure size 432x288 with 1 Axes>"
      ]
     },
     "metadata": {
      "needs_background": "light"
     },
     "output_type": "display_data"
    }
   ],
   "source": [
    "plt.scatter(x, y)\n",
    "test_x = torch.tensor([[x] for x in np.linspace(0, 5, 200)], dtype=torch.float32)\n",
    "test_y = model(test_x)\n",
    "test_y_noise = model_noise(test_x)\n",
    "plt.scatter(x, y, color = '#88c999')\n",
    "plt.plot(test_x.transpose(-1, 0)[0].detach().numpy(), test_y.transpose(-1, 0)[0].detach().numpy(), color = \"#636161\")\n",
    "plt.plot(test_x.transpose(-1, 0)[0].detach().numpy(), test_y_noise.transpose(-1, 0)[0].detach().numpy(), 'r--')\n",
    "plt.plot()"
   ]
  },
  {
   "cell_type": "markdown",
   "metadata": {},
   "source": [
    "## Result\n",
    "- Here in the above plot we can see that that output for **model wihtout noise(purple)** is more sensitive to input. \n",
    "- But for **model with noise(red)**, it is less sensitive to input as it is trained with inbuilt noise.\n",
    "- With increasing value of eta, we can see that the capacity of model decreases, so we can conclude that adding noise can act as a form of regularization.\n",
    "\n",
    "In normal model, the loss function is:  \n",
    "$J = E_p(x, y) [y(x) - t]$\n",
    "\n",
    "But, in another model we add random amount of noise $\\epsilon_W ~ \\mathcal{N} (\\mu, \\eta I)$ and now the cost function becomes:  \n",
    "$J = E_p(x, y, \\epsilon_W) [y_{\\epsilon_W}(x) - t]$"
   ]
  }
 ],
 "metadata": {
  "interpreter": {
   "hash": "ae440679f2660d1163b24b0cbc00b894c2ec4721f12ae0b8fa273e5846eb1af5"
  },
  "kernelspec": {
   "display_name": "Python 3.9.12 ('env')",
   "language": "python",
   "name": "python3"
  },
  "language_info": {
   "codemirror_mode": {
    "name": "ipython",
    "version": 3
   },
   "file_extension": ".py",
   "mimetype": "text/x-python",
   "name": "python",
   "nbconvert_exporter": "python",
   "pygments_lexer": "ipython3",
   "version": "3.9.12"
  },
  "orig_nbformat": 4
 },
 "nbformat": 4,
 "nbformat_minor": 2
}
