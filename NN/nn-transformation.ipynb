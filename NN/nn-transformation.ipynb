{
 "cells": [
  {
   "cell_type": "code",
   "execution_count": 2,
   "metadata": {
    "_cell_guid": "b1076dfc-b9ad-4769-8c92-a6c4dae69d19",
    "_uuid": "8f2839f25d086af736a60e9eeb907d3b93b6e0e5",
    "tags": []
   },
   "outputs": [],
   "source": [
    "import torch \n",
    "import torch.nn as nn\n",
    "import matplotlib.pyplot as plt \n",
    "import numpy as np\n",
    "from torch.utils.data import TensorDataset, DataLoader\n",
    "import matplotlib.animation as anim\n",
    "%matplotlib qt\n",
    "\n",
    "torch.set_default_dtype(torch.float64)"
   ]
  },
  {
   "cell_type": "markdown",
   "metadata": {},
   "source": [
    "### Model Definition"
   ]
  },
  {
   "cell_type": "code",
   "execution_count": 14,
   "metadata": {
    "tags": []
   },
   "outputs": [],
   "source": [
    "class MLP(nn.Module):\n",
    "    def __init__(self, num_features, num_classes):\n",
    "        super(MLP, self).__init__()\n",
    "        middle_layer_size = 20\n",
    "        self.layers = nn.Sequential(\n",
    "            nn.Linear(num_features, middle_layer_size),\n",
    "            nn.ReLU(),\n",
    "            nn.Linear(middle_layer_size, num_features),\n",
    "        )\n",
    "        self.output = nn.Sequential(\n",
    "            nn.Linear(num_features, num_classes),\n",
    "#             nn.Sigmoid()\n",
    "        )\n",
    "        print(f\"Number of featues: {num_features}, number of classes: {num_classes}\")\n",
    "        \n",
    "    def forward(self, x):\n",
    "        return self.output(self.layers(x))\n",
    "    \n",
    "    def data_transformation(self, x):\n",
    "        return self.layers(x)\n",
    "    \n",
    "    def forward_from_transformation(self, z):\n",
    "        return self.output(z)"
   ]
  },
  {
   "cell_type": "markdown",
   "metadata": {},
   "source": [
    "### Dataset Creation"
   ]
  },
  {
   "cell_type": "code",
   "execution_count": 4,
   "metadata": {
    "tags": []
   },
   "outputs": [],
   "source": [
    "def generate_dataset(t: np.ndarray, num_classes: int, class_index: int):\n",
    "    sigma = 0.2 + 0.01 * class_index\n",
    "    mean = 0.0\n",
    "    random_number = 0\n",
    "    return t * np.array([\n",
    "        np.sin(2 * np.pi / num_classes * (2 * t + class_index - 1)  + np.random.normal(0, sigma, t.shape)),\n",
    "        np.cos(2 * np.pi / num_classes * (2 * t + class_index - 1) + np.random.normal(0, sigma, t.shape)),\n",
    "    ])"
   ]
  },
  {
   "cell_type": "code",
   "execution_count": 5,
   "metadata": {
    "tags": []
   },
   "outputs": [
    {
     "name": "stdout",
     "output_type": "stream",
     "text": [
      "3\n",
      "3\n",
      "3\n"
     ]
    }
   ],
   "source": [
    "t = np.linspace(0, 1, 5000)\n",
    "num_classes = 3\n",
    "train_data = [None] * num_classes\n",
    "for i in range(num_classes):\n",
    "    print(num_classes)\n",
    "    data_class = generate_dataset(t, num_classes, i + 1).T\n",
    "    plt.scatter(data_class[:, 0], data_class[:, 1], s = 1.2)\n",
    "    \n",
    "    train_data[i] = np.append(data_class, i * np.ones((data_class.shape[0], 1)), axis = 1)\n",
    "    \n",
    "plt.show()"
   ]
  },
  {
   "cell_type": "code",
   "execution_count": 6,
   "metadata": {
    "tags": []
   },
   "outputs": [
    {
     "data": {
      "text/plain": [
       "((15000, 2), (15000,))"
      ]
     },
     "execution_count": 6,
     "metadata": {},
     "output_type": "execute_result"
    }
   ],
   "source": [
    "train_data = np.concatenate(train_data)\n",
    "train_X, train_y = train_data[:, :2], train_data[:, 2].astype(int)\n",
    "train_X.shape, train_y.shape"
   ]
  },
  {
   "cell_type": "code",
   "execution_count": 7,
   "metadata": {
    "tags": []
   },
   "outputs": [
    {
     "data": {
      "text/plain": [
       "((15000, 3),\n",
       " array([[1., 0., 0.],\n",
       "        [1., 0., 0.],\n",
       "        [1., 0., 0.],\n",
       "        ...,\n",
       "        [0., 0., 1.],\n",
       "        [0., 0., 1.],\n",
       "        [0., 0., 1.]]))"
      ]
     },
     "execution_count": 7,
     "metadata": {},
     "output_type": "execute_result"
    }
   ],
   "source": [
    "y = np.zeros((train_y.size, train_y.max() + 1))\n",
    "y[np.arange(train_y.size), train_y] = 1\n",
    "y.shape, y"
   ]
  },
  {
   "cell_type": "code",
   "execution_count": 8,
   "metadata": {
    "tags": []
   },
   "outputs": [],
   "source": [
    "X, y = torch.Tensor(train_X), torch.Tensor(y)\n",
    "dataset = TensorDataset(X, y)\n",
    "dataloader = DataLoader(dataset, shuffle = True, batch_size = 512)"
   ]
  },
  {
   "cell_type": "markdown",
   "metadata": {},
   "source": [
    "### Training"
   ]
  },
  {
   "cell_type": "code",
   "execution_count": 15,
   "metadata": {
    "tags": []
   },
   "outputs": [
    {
     "name": "stdout",
     "output_type": "stream",
     "text": [
      "Number of featues: 2, number of classes: 3\n"
     ]
    }
   ],
   "source": [
    "model = MLP(2, num_classes)\n",
    "optimizer = torch.optim.SGD(model.parameters(), lr=0.01, momentum=0.9)\n",
    "loss_fn = torch.nn.CrossEntropyLoss()"
   ]
  },
  {
   "cell_type": "code",
   "execution_count": 16,
   "metadata": {
    "tags": []
   },
   "outputs": [
    {
     "name": "stdout",
     "output_type": "stream",
     "text": [
      "Epoch 0 loss: 1.2039089033554107\n",
      "Epoch 0 loss: 1.0867703258674484\n",
      "Epoch 5 loss: 0.902660964015247\n",
      "Epoch 10 loss: 0.7402182261479422\n",
      "Epoch 15 loss: 0.6458164298579173\n",
      "Epoch 20 loss: 0.4939487620478414\n",
      "Epoch 25 loss: 0.36501558052885263\n",
      "Epoch 30 loss: 0.2888144146325956\n",
      "Epoch 35 loss: 0.24242961838092647\n",
      "Epoch 40 loss: 0.21097331852243606\n",
      "Epoch 45 loss: 0.1866312040059497\n",
      "Epoch 50 loss: 0.16733498265293384\n",
      "Epoch 55 loss: 0.15215934126311192\n",
      "Epoch 60 loss: 0.13841374471357168\n",
      "Epoch 65 loss: 0.12862809514718082\n",
      "Epoch 70 loss: 0.12078585642583398\n",
      "Epoch 75 loss: 0.11365307444382558\n",
      "Epoch 80 loss: 0.10872326578064781\n",
      "Epoch 85 loss: 0.10352127491516594\n",
      "Epoch 90 loss: 0.09863643008526995\n",
      "Epoch 95 loss: 0.09426334382651283\n"
     ]
    }
   ],
   "source": [
    "epochs = 100\n",
    "fig = plt.figure(figsize=(10, 10))\n",
    "ax = fig.add_subplot(1, 1, 1)\n",
    "\n",
    "def plot_decision_boundary():\n",
    "    x_min, x_max = train_X[:, 0].min() - 1, train_X[:, 0].max() + 1\n",
    "    y_min, y_max = train_X[:, 1].min() - 1, train_X[:, 1].max() + 1\n",
    "    h = 0.01\n",
    "    xx, yy = np.meshgrid(np.arange(x_min, x_max, h),\n",
    "                         np.arange(y_min, y_max, h))\n",
    "    # Plot the decision boundary. For that, we will assign a color to each\n",
    "    # point in the mesh [x_min, m_max]x[y_min, y_max].\n",
    "    ax.clear()\n",
    "    Z = model(torch.Tensor(np.c_[xx.ravel(), yy.ravel()])).argmax(1)\n",
    "\n",
    "    # Put the result into a color plot\n",
    "    Z = Z.reshape(xx.shape)\n",
    "    ax.contourf(xx, yy, Z)\n",
    "    ax.axis('off')\n",
    "    # Plot also the training points\n",
    "    ax.scatter(X[:, 0], X[:, 1], c = y, s = 1.2)\n",
    "    ax.set_title('Learning of Non linear decision boundary by NN')\n",
    "\n",
    "def train(epoch):\n",
    "    running_loss = 0\n",
    "    last_loss = 0\n",
    "    for i, data in enumerate(dataloader):\n",
    "        inp, labels = data\n",
    "        optimizer.zero_grad()\n",
    "\n",
    "        outputs = model(inp)\n",
    "        loss = loss_fn(outputs, labels)\n",
    "        loss.backward()\n",
    "\n",
    "        optimizer.step()\n",
    "        running_loss += loss.item()\n",
    "    plot_decision_boundary()\n",
    "    if epoch % 5 == 0:\n",
    "        print(f'Epoch {epoch} loss: {running_loss / i}')\n",
    "    running_loss = 0.\n",
    "a = anim.FuncAnimation(fig, train, frames=epochs, repeat = False)\n",
    "plt.show()"
   ]
  },
  {
   "cell_type": "code",
   "execution_count": null,
   "metadata": {},
   "outputs": [
    {
     "name": "stdout",
     "output_type": "stream",
     "text": [
      "Epoch 0 loss: 1.1315163163908393\n",
      "Epoch 0 loss: 1.1252764690000527\n",
      "Epoch 0 loss: 1.1182216822335462\n",
      "Epoch 5 loss: 1.0427523904825338\n",
      "Epoch 10 loss: 0.8791632925698722\n",
      "Epoch 15 loss: 0.8073771079736877\n"
     ]
    }
   ],
   "source": [
    "a.save(\"neural_network.gif\")"
   ]
  },
  {
   "cell_type": "code",
   "execution_count": null,
   "metadata": {
    "execution": {
     "iopub.execute_input": "2023-02-24T09:50:49.086230Z",
     "iopub.status.busy": "2023-02-24T09:50:49.085746Z",
     "iopub.status.idle": "2023-02-24T09:50:50.335388Z",
     "shell.execute_reply": "2023-02-24T09:50:50.334434Z",
     "shell.execute_reply.started": "2023-02-24T09:50:49.086197Z"
    }
   },
   "outputs": [],
   "source": [
    "# transform data\n",
    "transformed_X = model.data_transformation(torch.Tensor(train_X))\n",
    "transformed_X = transformed_X.detach().cpu().numpy()\n",
    "x_min, x_max = transformed_X[:, 0].min() - 1, transformed_X[:, 0].max() + 1\n",
    "y_min, y_max = transformed_X[:, 1].min() - 1, transformed_X[:, 1].max() + 1\n",
    "h = 0.01\n",
    "xx, yy = np.meshgrid(np.arange(x_min, x_max, h),\n",
    "                     np.arange(y_min, y_max, h))\n",
    "\n",
    "# Plot the decision boundary. For that, we will assign a color to each\n",
    "# point in the mesh [x_min, m_max]x[y_min, y_max].\n",
    "# plt.rcParams[\"figure.figsize\"] = (8,8)\n",
    "fig, ax = plt.subplots(2, 1, figsize = (10, 10))\n",
    "\n",
    "ax[0].scatter(data_class_1[:, 0], data_class_1[:, 1], s = 1.2)\n",
    "ax[0].scatter(data_class_2[:, 0], data_class_2[:, 1], s = 1.2)\n",
    "ax[0].scatter(data_class_3[:, 0], data_class_3[:, 1], s = 1.2)\n",
    "\n",
    "Z = model.forward_from_transformation(torch.Tensor(np.c_[xx.ravel(), yy.ravel()])).argmax(1)\n",
    "print(xx.shape, yy.shape, Z.shape)\n",
    "Z = Z.reshape(xx.shape)\n",
    "ax[1].contourf(xx, yy, Z)\n",
    "\n",
    "transformed_data = model.data_transformation(torch.tensor(data_class_1)).detach().cpu().numpy()\n",
    "ax[1].scatter(transformed_data[:, 0], transformed_data[:, 1], s = 1.2)\n",
    "\n",
    "transformed_data = model.data_transformation(torch.tensor(data_class_2)).detach().cpu().numpy()\n",
    "ax[1].scatter(transformed_data[:, 0], transformed_data[:, 1], s = 1.2)\n",
    "\n",
    "transformed_data = model.data_transformation(torch.tensor(data_class_3)).detach().cpu().numpy()\n",
    "ax[1].scatter(transformed_data[:, 0], transformed_data[:, 1], s = 1.2)\n",
    "\n",
    "\n",
    "plt.title(\"Transformation of data points from input space by Neural network\")\n",
    "plt.savefig(\"Neural Network Data transformation Visualization.png\")\n",
    "plt.show()"
   ]
  },
  {
   "cell_type": "markdown",
   "metadata": {},
   "source": [
    "Here, in the above plot we can see that the data is linearyly seperable in the space transformed by neural networks."
   ]
  },
  {
   "cell_type": "code",
   "execution_count": null,
   "metadata": {
    "execution": {
     "iopub.execute_input": "2023-02-24T09:50:50.341379Z",
     "iopub.status.busy": "2023-02-24T09:50:50.338512Z",
     "iopub.status.idle": "2023-02-24T09:50:52.023156Z",
     "shell.execute_reply": "2023-02-24T09:50:52.022247Z",
     "shell.execute_reply.started": "2023-02-24T09:50:50.341325Z"
    }
   },
   "outputs": [],
   "source": [
    "x_min, x_max = train_X[:, 0].min() - 1, train_X[:, 0].max() + 1\n",
    "y_min, y_max = train_X[:, 1].min() - 1, train_X[:, 1].max() + 1\n",
    "h = 0.01\n",
    "xx, yy = np.meshgrid(np.arange(x_min, x_max, h),\n",
    "                     np.arange(y_min, y_max, h))\n",
    "\n",
    "# Plot the decision boundary. For that, we will assign a color to each\n",
    "# point in the mesh [x_min, m_max]x[y_min, y_max].\n",
    "fig, ax = plt.subplots()\n",
    "Z = model(torch.Tensor(np.c_[xx.ravel(), yy.ravel()])).argmax(1)\n",
    "\n",
    "# Put the result into a color plot\n",
    "print(xx.shape, Z.shape)\n",
    "Z = Z.reshape(xx.shape)\n",
    "ax.contourf(xx, yy, Z)\n",
    "ax.axis('off')\n",
    "\n",
    "# Plot also the training points\n",
    "ax.scatter(X[:, 0], X[:, 1], c=y, cmap=plt.cm.Paired, s = 1.2)\n",
    "\n",
    "ax.set_title('Non linear decision boundary')"
   ]
  },
  {
   "cell_type": "code",
   "execution_count": null,
   "metadata": {},
   "outputs": [],
   "source": [
    "plt.close('all')"
   ]
  }
 ],
 "metadata": {
  "kernelspec": {
   "display_name": "DL",
   "language": "python",
   "name": "dl"
  },
  "language_info": {
   "codemirror_mode": {
    "name": "ipython",
    "version": 3
   },
   "file_extension": ".py",
   "mimetype": "text/x-python",
   "name": "python",
   "nbconvert_exporter": "python",
   "pygments_lexer": "ipython3",
   "version": "3.9.12"
  }
 },
 "nbformat": 4,
 "nbformat_minor": 4
}
